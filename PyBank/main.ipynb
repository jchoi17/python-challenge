{
 "cells": [
  {
   "cell_type": "code",
   "execution_count": 76,
   "metadata": {},
   "outputs": [],
   "source": [
    "#import modules\n",
    "import os\n",
    "import csv"
   ]
  },
  {
   "cell_type": "code",
   "execution_count": 77,
   "metadata": {},
   "outputs": [],
   "source": [
    "#select file\n",
    "budget = os.path.join(\"Resources\", \"budget_data.csv\")"
   ]
  },
  {
   "cell_type": "code",
   "execution_count": 81,
   "metadata": {},
   "outputs": [],
   "source": [
    "# Open and read the CSV\n",
    "with open(budget, newline=\"\") as csvfile:\n",
    "    csvreader = csv.reader(csvfile, delimiter=\",\")\n",
    "    csv_header = next(csvfile)\n",
    " \n",
    "    #create lists to store data\n",
    "    months = []\n",
    "    profit = []\n",
    "    changes = []\n",
    "    max_inc = \"\"\n",
    "    max_dec = \"\"\n",
    "    \n",
    "    #set up loop for total months & profit\n",
    "    for row in csvreader:\n",
    "        months.append(row[0])   \n",
    "        profit.append(int(row[1]))\n",
    "\n",
    "    #set up loop for average change and max increase and loss\n",
    "    for i in range(1, len(months)):\n",
    "        \n",
    "        # Find average change between months\n",
    "        changes.append(profit[i] - profit[i-1])\n",
    "        avg_change = sum(changes) / len(changes)\n",
    "        \n",
    "        # Determine greatest increase and date\n",
    "        max_inc = max(changes)\n",
    "        max_inc_date = str(months[changes.index(max(changes))])\n",
    "        \n",
    "        # Determine greatest decrease and date\n",
    "        max_dec = min(changes)\n",
    "        max_dec_date = str(months[changes.index(min(changes))])"
   ]
  },
  {
   "cell_type": "code",
   "execution_count": 82,
   "metadata": {},
   "outputs": [
    {
     "name": "stdout",
     "output_type": "stream",
     "text": [
      "Financial Analysis\n",
      "-------------------------------\n",
      "Total Months:  86\n",
      "Net Total: $ 38382578\n",
      "Average Change: $ -2315\n",
      "Greatest Increase:  Jan-2012 ($ 1926159 )\n",
      "Greatest Decrease:  Aug-2013 ($ -2196167 )\n"
     ]
    }
   ],
   "source": [
    "# Print Statements\n",
    "print(\"Financial Analysis\")\n",
    "print(\"-------------------------------\")\n",
    "print(\"Total Months: \", len(months))\n",
    "print(\"Net Total: $\", sum(profit))\n",
    "print(\"Average Change: $\", int(avg_change))  \n",
    "print(\"Greatest Increase: \", max_inc_date, \"($\", max_inc,\")\")\n",
    "print(\"Greatest Decrease: \", max_dec_date, \"($\", max_dec,\")\")"
   ]
  },
  {
   "cell_type": "code",
   "execution_count": null,
   "metadata": {},
   "outputs": [],
   "source": []
  },
  {
   "cell_type": "code",
   "execution_count": null,
   "metadata": {},
   "outputs": [],
   "source": []
  }
 ],
 "metadata": {
  "kernelspec": {
   "display_name": "Python 3",
   "language": "python",
   "name": "python3"
  },
  "language_info": {
   "codemirror_mode": {
    "name": "ipython",
    "version": 3
   },
   "file_extension": ".py",
   "mimetype": "text/x-python",
   "name": "python",
   "nbconvert_exporter": "python",
   "pygments_lexer": "ipython3",
   "version": "3.8.3"
  }
 },
 "nbformat": 4,
 "nbformat_minor": 4
}
