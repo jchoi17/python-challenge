{
 "cells": [
  {
   "cell_type": "code",
   "execution_count": 1,
   "metadata": {},
   "outputs": [],
   "source": [
    "#* In this challenge, you are tasked with helping a small, rural town modernize its vote counting process.\n",
    "\n",
    "# You will be give a set of poll data called [election_data.csv](PyPoll/Resources/election_data.csv). \n",
    "#The dataset is composed of three columns: `Voter ID`, `County`, and `Candidate`. \n",
    "#Your task is to create a Python script that analyzes the votes and calculates each of the following:\n",
    "\n",
    "# The total number of votes cast\n",
    "\n",
    "# A complete list of candidates who received votes\n",
    "\n",
    "# The percentage of votes each candidate won\n",
    "\n",
    "# The total number of votes each candidate won\n",
    "\n",
    "# The winner of the election based on popular vote.\n",
    "\n",
    "# As an example, your analysis should look similar to the one below:\n",
    "\n",
    "#  Election Results\n",
    "#  -------------------------\n",
    "#  Total Votes: 3521001\n",
    "#  -------------------------\n",
    "#  Khan: 63.000% (2218231)\n",
    "#  Correy: 20.000% (704200)\n",
    "#  Li: 14.000% (492940)\n",
    "#  O'Tooley: 3.000% (105630)\n",
    "#  -------------------------\n",
    "#  Winner: Khan\n",
    "#  -------------------------"
   ]
  },
  {
   "cell_type": "code",
   "execution_count": 2,
   "metadata": {},
   "outputs": [],
   "source": [
    "#import dependencies\n",
    "import os\n",
    "import csv"
   ]
  },
  {
   "cell_type": "code",
   "execution_count": 3,
   "metadata": {},
   "outputs": [],
   "source": [
    "file = os.path.join(\"Resources\",\"election_data.csv\")\n",
    "\n",
    "#create lists to store data\n",
    "\n",
    "unique_candidates={}\n",
    "winner = \"\"\n",
    "    \n",
    "# Open and read the CSV\n",
    "with open(file, 'r') as csvfile:\n",
    "    csvreader = csv.reader(csvfile, delimiter=\",\")\n",
    "    csv_header = next(csvfile)\n",
    "    \n",
    "    #create variables for calculations\n",
    "    total_votes = 0\n",
    "    \n",
    "    #find total votes\n",
    "    for row in csvreader:\n",
    "       \n",
    "        #calculate total votes\n",
    "        total_votes += 1\n",
    "        \n",
    "        #get unique values for candidates & find how many votes each candidate got\n",
    "        if row[2] not in list(unique_candidates.keys()):\n",
    "            unique_candidates[row[2]] = 0\n",
    "        \n",
    "        unique_candidates[row[2]] += 1\n",
    "        \n",
    "        #get winner\n",
    "        winner = max(unique_candidates, key=unique_candidates.get)\n",
    "    \n",
    "    \n",
    "    votes = []\n",
    "    votes = list(unique_candidates.values())\n",
    "    candidates = []\n",
    "    candidates = list(unique_candidates.keys())\n",
    "    \n",
    "    #get percentages    \n",
    "    for i in unique_candidates:\n",
    "    \n",
    "        k_votes = round((votes[0]/total_votes)*100)\n",
    "        c_votes = round((votes[1]/total_votes)*100)\n",
    "        l_votes = round((votes[2]/total_votes)*100)\n",
    "        o_votes = round((votes[3]/total_votes)*100)\n"
   ]
  },
  {
   "cell_type": "code",
   "execution_count": 4,
   "metadata": {
    "scrolled": false
   },
   "outputs": [
    {
     "name": "stdout",
     "output_type": "stream",
     "text": [
      "Election Results\n",
      "--------------------------------\n",
      "Total Votes: 3521001\n",
      "--------------------------------\n",
      "Khan: 63% (2218231)\n",
      "Correy: 20% (704200)\n",
      "Li: 14% (492940)\n",
      "O'Tooley: 3% 105630\n",
      "--------------------------------\n",
      "Winner: Khan\n",
      "--------------------------------\n"
     ]
    }
   ],
   "source": [
    "#Print outputs\n",
    "print('Election Results')\n",
    "print('--------------------------------')\n",
    "print(f'Total Votes: {total_votes}')\n",
    "print('--------------------------------')\n",
    "print(f\"{candidates[0]}: {k_votes}% ({votes[0]})\")\n",
    "print(f\"{candidates[1]}: {c_votes}% ({votes[1]})\")\n",
    "print(f\"{candidates[2]}: {l_votes}% ({votes[2]})\")\n",
    "print(f\"{candidates[3]}: {o_votes}% {votes[3]}\")\n",
    "print('--------------------------------')\n",
    "print(f'Winner: {winner}')\n",
    "print('--------------------------------')"
   ]
  },
  {
   "cell_type": "code",
   "execution_count": 5,
   "metadata": {},
   "outputs": [],
   "source": [
    "output_path = os.path.join(\"output\",\"pp_main.txt\")\n",
    "output = (\n",
    "    f'Election Results'\n",
    "    f'--------------------------------'\n",
    "    f'Total Votes: 3521001'\n",
    "    f'--------------------------------'\n",
    "    f'Khan: 63% (2218231)'\n",
    "    f'Correy: 20% (704200)'\n",
    "    f'Li: 14% (492940)'\n",
    "    f\"O'Tooley: 3% 105630\"\n",
    "    f'--------------------------------'\n",
    "    f'Winner: Khan'\n",
    "    f'--------------------------------')\n",
    "\n",
    "with open(\"output.txt\", 'w') as txt_file:\n",
    "    txt_file.write(output)"
   ]
  },
  {
   "cell_type": "code",
   "execution_count": null,
   "metadata": {},
   "outputs": [],
   "source": []
  }
 ],
 "metadata": {
  "kernelspec": {
   "display_name": "Python 3",
   "language": "python",
   "name": "python3"
  },
  "language_info": {
   "codemirror_mode": {
    "name": "ipython",
    "version": 3
   },
   "file_extension": ".py",
   "mimetype": "text/x-python",
   "name": "python",
   "nbconvert_exporter": "python",
   "pygments_lexer": "ipython3",
   "version": "3.8.3"
  }
 },
 "nbformat": 4,
 "nbformat_minor": 4
}
